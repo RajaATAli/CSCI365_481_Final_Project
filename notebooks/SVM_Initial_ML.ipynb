{
 "cells": [
  {
   "cell_type": "markdown",
   "id": "a831305f",
   "metadata": {},
   "source": [
    "The **preprocessing steps** (removing outliers and one-hot encoding categorical variables) have already been accomplished in the Random Forest Model Training so we'll just load in the cleaned dataset"
   ]
  },
  {
   "cell_type": "code",
   "execution_count": 1,
   "id": "8527a81e",
   "metadata": {},
   "outputs": [],
   "source": [
    "import pandas as pd\n",
    "from sklearn.model_selection import train_test_split, GridSearchCV\n",
    "from sklearn.preprocessing import StandardScaler\n",
    "from sklearn.svm import SVC\n",
    "from sklearn.metrics import accuracy_score, roc_auc_score, confusion_matrix, classification_report\n",
    "from sklearn.pipeline import Pipeline"
   ]
  },
  {
   "cell_type": "code",
   "execution_count": 2,
   "id": "48a347b4",
   "metadata": {},
   "outputs": [
    {
     "name": "stdout",
     "output_type": "stream",
     "text": [
      "Accuracy: 0.9646458987001345\n",
      "ROC AUC: 0.9557248271750498\n",
      "Confusion Matrix:\n",
      "[[16450    55]\n",
      " [  576   767]]\n",
      "Classification Report:\n",
      "              precision    recall  f1-score   support\n",
      "\n",
      "           0       0.97      1.00      0.98     16505\n",
      "           1       0.93      0.57      0.71      1343\n",
      "\n",
      "    accuracy                           0.96     17848\n",
      "   macro avg       0.95      0.78      0.84     17848\n",
      "weighted avg       0.96      0.96      0.96     17848\n",
      "\n"
     ]
    }
   ],
   "source": [
    "data_filepath = '../data/processed/cleaned_diabetes_one_hot_encoding.csv'\n",
    "df = pd.read_csv(data_filepath)\n",
    "\n",
    "# Separate the features and the target variable\n",
    "X = df.drop('diabetes', axis=1)\n",
    "y = df['diabetes']\n",
    "\n",
    "# Splitting the dataset into the Training set and Test set\n",
    "X_train, X_test, y_train, y_test = train_test_split(X, y, test_size=0.2, random_state=42)\n",
    "\n",
    "# Data scaling\n",
    "scaler = StandardScaler()\n",
    "X_train_scaled = scaler.fit_transform(X_train)\n",
    "X_test_scaled = scaler.transform(X_test)\n",
    "\n",
    "# Initialize the SVM classifier\n",
    "svm_model = SVC(kernel='linear', probability=True, random_state=42)\n",
    "\n",
    "# Train the SVM model\n",
    "svm_model.fit(X_train_scaled, y_train)\n",
    "\n",
    "# Making predictions on the test set\n",
    "y_pred = svm_model.predict(X_test_scaled)\n",
    "y_pred_prob = svm_model.predict_proba(X_test_scaled)[:, 1]\n",
    "\n",
    "# Compute and print the evaluation metrics\n",
    "accuracy = accuracy_score(y_test, y_pred)\n",
    "roc_auc = roc_auc_score(y_test, y_pred_prob)\n",
    "conf_matrix = confusion_matrix(y_test, y_pred)\n",
    "class_report = classification_report(y_test, y_pred)\n",
    "\n",
    "print(f\"Accuracy: {accuracy}\")\n",
    "print(f\"ROC AUC: {roc_auc}\")\n",
    "print(\"Confusion Matrix:\")\n",
    "print(conf_matrix)\n",
    "print(\"Classification Report:\")\n",
    "print(class_report)"
   ]
  },
  {
   "cell_type": "markdown",
   "id": "d17fe599",
   "metadata": {},
   "source": [
    "### Hyperparameter Tuning using GridSearchCV"
   ]
  },
  {
   "cell_type": "code",
   "execution_count": 3,
   "id": "297f4bcd",
   "metadata": {},
   "outputs": [],
   "source": [
    "'''\n",
    "param_grid = {\n",
    "    'C': [0.1, 1, 10],\n",
    "    'kernel': ['linear', 'rbf'],\n",
    "    'gamma': ['scale', 'auto']\n",
    "}\n",
    "\n",
    "grid_search = GridSearchCV(estimator=SVC(probability=True, random_state=42), param_grid=param_grid, cv=5, scoring='roc_auc', n_jobs=-1, verbose=2)\n",
    "grid_search.fit(X_train_scaled, y_train)\n",
    "\n",
    "print(\"Best Parameters:\", grid_search.best_params_)\n",
    "print(\"Best ROC AUC Score:\", grid_search.best_score_)\n",
    "\n",
    "\n",
    "Best Parameters: {'C': 0.1, 'gamma': 'scale', 'kernel': 'linear'}\n",
    "Best ROC AUC Score: 0.959424164012679\n",
    "\n",
    "\n",
    "'''\n",
    "hardcoded_best_params = {\n",
    "    'C': 0.1,\n",
    "    'gamma': 'scale',\n",
    "    'kernel': 'linear'\n",
    "}\n"
   ]
  },
  {
   "cell_type": "code",
   "execution_count": 4,
   "id": "d6bc8648",
   "metadata": {},
   "outputs": [
    {
     "name": "stdout",
     "output_type": "stream",
     "text": [
      "Optimized Model Accuracy: 0.9647579560735097\n",
      "Optimized Model ROC AUC: 0.9557740913367483\n",
      "Optimized Model Confusion Matrix:\n",
      " [[16452    53]\n",
      " [  576   767]]\n",
      "Optimized Model Classification Report:\n",
      "               precision    recall  f1-score   support\n",
      "\n",
      "           0       0.97      1.00      0.98     16505\n",
      "           1       0.94      0.57      0.71      1343\n",
      "\n",
      "    accuracy                           0.96     17848\n",
      "   macro avg       0.95      0.78      0.85     17848\n",
      "weighted avg       0.96      0.96      0.96     17848\n",
      "\n"
     ]
    }
   ],
   "source": [
    "svm_optimized = SVC(**hardcoded_best_params, probability=True, random_state=42)\n",
    "\n",
    "# Train the SVM model using the scaled training data\n",
    "svm_optimized.fit(X_train_scaled, y_train)\n",
    "\n",
    "# Making predictions on the scaled test set\n",
    "y_pred_opt = svm_optimized.predict(X_test_scaled)\n",
    "y_pred_prob_opt = svm_optimized.predict_proba(X_test_scaled)[:, 1]\n",
    "\n",
    "# Evaluate the optimized model\n",
    "accuracy_opt = accuracy_score(y_test, y_pred_opt)\n",
    "roc_auc_opt = roc_auc_score(y_test, y_pred_prob_opt)\n",
    "conf_matrix_opt = confusion_matrix(y_test, y_pred_opt)\n",
    "class_report_opt = classification_report(y_test, y_pred_opt)\n",
    "\n",
    "# Print evaluation metrics\n",
    "print(f\"Optimized Model Accuracy: {accuracy_opt}\")\n",
    "print(f\"Optimized Model ROC AUC: {roc_auc_opt}\")\n",
    "print(\"Optimized Model Confusion Matrix:\\n\", conf_matrix_opt)\n",
    "print(\"Optimized Model Classification Report:\\n\", class_report_opt)"
   ]
  },
  {
   "cell_type": "markdown",
   "id": "b4d2c827",
   "metadata": {},
   "source": [
    "#### Model Complexity and Kernel Choice"
   ]
  },
  {
   "cell_type": "code",
   "execution_count": 5,
   "id": "018be28c",
   "metadata": {},
   "outputs": [
    {
     "data": {
      "text/plain": [
       "'\\n# Create a pipeline that scales data then applies SVC\\npipeline = Pipeline([\\n    (\\'scaler\\', StandardScaler()),\\n    (\\'svc\\', SVC(probability=True, random_state=42))\\n])\\n\\nparam_grid = {\\n    \\'svc__C\\': [0.1, 1, 10, 100],\\n    \\'svc__kernel\\': [\\'linear\\', \\'rbf\\', \\'poly\\'],\\n    \\'svc__degree\\': [2, 3, 4],  # Only used for \\'poly\\' kernel\\n    \\'svc__gamma\\': [\\'scale\\', \\'auto\\']\\n}\\n\\ngrid_search = GridSearchCV(pipeline, param_grid, cv=5, scoring=\\'roc_auc\\', n_jobs=-1, verbose=2)\\ngrid_search.fit(X_train, y_train)\\n\\nprint(\"Best Parameters:\", grid_search.best_params_)\\nprint(\"Best ROC AUC Score:\", grid_search.best_score_)\\n\\n# Evaluate the best model found by GridSearchCV\\nbest_model = grid_search.best_estimator_\\ny_pred = best_model.predict(X_test)\\ny_pred_prob = best_model.predict_proba(X_test)[:, 1]\\nprint(classification_report(y_test, y_pred))\\n\\n\\nBest Parameters: {\\'svc__C\\': 0.1, \\'svc__degree\\': 2, \\'svc__gamma\\': \\'scale\\', \\'svc__kernel\\': \\'linear\\'}\\nBest ROC AUC Score: 0.9594258954649781\\n              precision    recall  f1-score   support\\n\\n           0       0.97      1.00      0.98     16505\\n           1       0.94      0.57      0.71      1343\\n\\n    accuracy                           0.96     17848\\n   macro avg       0.95      0.78      0.85     17848\\nweighted avg       0.96      0.96      0.96     17848\\n'"
      ]
     },
     "execution_count": 5,
     "metadata": {},
     "output_type": "execute_result"
    }
   ],
   "source": [
    "'''\n",
    "# Create a pipeline that scales data then applies SVC\n",
    "pipeline = Pipeline([\n",
    "    ('scaler', StandardScaler()),\n",
    "    ('svc', SVC(probability=True, random_state=42))\n",
    "])\n",
    "\n",
    "param_grid = {\n",
    "    'svc__C': [0.1, 1, 10, 100],\n",
    "    'svc__kernel': ['linear', 'rbf', 'poly'],\n",
    "    'svc__degree': [2, 3, 4],  # Only used for 'poly' kernel\n",
    "    'svc__gamma': ['scale', 'auto']\n",
    "}\n",
    "\n",
    "grid_search = GridSearchCV(pipeline, param_grid, cv=5, scoring='roc_auc', n_jobs=-1, verbose=2)\n",
    "grid_search.fit(X_train, y_train)\n",
    "\n",
    "print(\"Best Parameters:\", grid_search.best_params_)\n",
    "print(\"Best ROC AUC Score:\", grid_search.best_score_)\n",
    "\n",
    "# Evaluate the best model found by GridSearchCV\n",
    "best_model = grid_search.best_estimator_\n",
    "y_pred = best_model.predict(X_test)\n",
    "y_pred_prob = best_model.predict_proba(X_test)[:, 1]\n",
    "print(classification_report(y_test, y_pred))\n",
    "\n",
    "\n",
    "Best Parameters: {'svc__C': 0.1, 'svc__degree': 2, 'svc__gamma': 'scale', 'svc__kernel': 'linear'}\n",
    "Best ROC AUC Score: 0.9594258954649781\n",
    "              precision    recall  f1-score   support\n",
    "\n",
    "           0       0.97      1.00      0.98     16505\n",
    "           1       0.94      0.57      0.71      1343\n",
    "\n",
    "    accuracy                           0.96     17848\n",
    "   macro avg       0.95      0.78      0.85     17848\n",
    "weighted avg       0.96      0.96      0.96     17848\n",
    "'''"
   ]
  },
  {
   "cell_type": "markdown",
   "id": "8bbc0e58",
   "metadata": {},
   "source": [
    "#### Handling Class Imbalance with SMOTE"
   ]
  },
  {
   "cell_type": "code",
   "execution_count": 6,
   "id": "48b64cea",
   "metadata": {},
   "outputs": [
    {
     "data": {
      "text/plain": [
       "\"\\nResults:\\nBest Parameters with SMOTE: {'svc__C': 10, 'svc__gamma': 'scale', 'svc__kernel': 'linear'}\\nBest ROC AUC Score with SMOTE: 0.9575152547834718\\n\\n\""
      ]
     },
     "execution_count": 6,
     "metadata": {},
     "output_type": "execute_result"
    }
   ],
   "source": [
    "'''from imblearn.over_sampling import SMOTE\n",
    "from imblearn.pipeline import Pipeline as ImbPipeline\n",
    "from sklearn.model_selection import train_test_split, GridSearchCV\n",
    "from sklearn.preprocessing import StandardScaler\n",
    "from sklearn.svm import SVC\n",
    "from sklearn.metrics import accuracy_score, roc_auc_score, confusion_matrix, classification_report\n",
    "\n",
    "# Creating an imbalanced-learn pipeline\n",
    "imb_pipeline = ImbPipeline([\n",
    "    ('smote', SMOTE(random_state=42)),\n",
    "    ('scaler', StandardScaler()),\n",
    "    ('svc', SVC(probability=True, random_state=42))\n",
    "])\n",
    "\n",
    "param_grid = {\n",
    "    'svc__C': [0.1, 1, 10],\n",
    "    'svc__kernel': ['linear', 'rbf'],\n",
    "    'svc__gamma': ['scale', 'auto']\n",
    "}\n",
    "\n",
    "# Using GridSearchCV for hyperparameter tuning with the imbalanced pipeline\n",
    "grid_search_smote = GridSearchCV(imb_pipeline, param_grid, cv=5, scoring='roc_auc', n_jobs=-1, verbose=2)\n",
    "grid_search_smote.fit(X_train, y_train)\n",
    "\n",
    "print(\"Best Parameters with SMOTE:\", grid_search_smote.best_params_)\n",
    "print(\"Best ROC AUC Score with SMOTE:\", grid_search_smote.best_score_)\n",
    "\n",
    "'''\n",
    "'''\n",
    "Results:\n",
    "Best Parameters with SMOTE: {'svc__C': 10, 'svc__gamma': 'scale', 'svc__kernel': 'linear'}\n",
    "Best ROC AUC Score with SMOTE: 0.9575152547834718\n",
    "\n",
    "'''"
   ]
  },
  {
   "cell_type": "code",
   "execution_count": 7,
   "id": "6b311d0d",
   "metadata": {},
   "outputs": [
    {
     "name": "stdout",
     "output_type": "stream",
     "text": [
      "Optimized Model with SMOTE Accuracy: 0.9646458987001345\n",
      "Optimized Model with SMOTE ROC AUC: 0.9557203609186323\n",
      "Optimized Model with SMOTE Confusion Matrix:\n",
      " [[16450    55]\n",
      " [  576   767]]\n",
      "Optimized Model with SMOTE Classification Report:\n",
      "               precision    recall  f1-score   support\n",
      "\n",
      "           0       0.97      1.00      0.98     16505\n",
      "           1       0.93      0.57      0.71      1343\n",
      "\n",
      "    accuracy                           0.96     17848\n",
      "   macro avg       0.95      0.78      0.84     17848\n",
      "weighted avg       0.96      0.96      0.96     17848\n",
      "\n"
     ]
    }
   ],
   "source": [
    "from sklearn.svm import SVC\n",
    "from sklearn.metrics import classification_report, accuracy_score, roc_auc_score\n",
    "from sklearn.preprocessing import StandardScaler\n",
    "from sklearn.pipeline import Pipeline\n",
    "\n",
    "# Hardcoded best parameters obtained from the GridSearchCV with SMOTE\n",
    "hardcoded_best_params_smote = {\n",
    "    'C': 10,  # Adjusted from 'svc__C': 10 for direct use in SVC\n",
    "    'gamma': 'scale',\n",
    "    'kernel': 'linear'\n",
    "}\n",
    "\n",
    "# Applying StandardScaler and SVC with the best parameters in a pipeline\n",
    "pipeline_smote_optimized = Pipeline([\n",
    "    ('scaler', StandardScaler()),\n",
    "    ('svc', SVC(**hardcoded_best_params_smote, probability=True, random_state=42))\n",
    "])\n",
    "\n",
    "# Train the model using the training set\n",
    "pipeline_smote_optimized.fit(X_train, y_train)\n",
    "\n",
    "# Making predictions on the test set\n",
    "y_pred_smote_optimized = pipeline_smote_optimized.predict(X_test)\n",
    "y_pred_prob_smote_optimized = pipeline_smote_optimized.predict_proba(X_test)[:, 1]\n",
    "\n",
    "# Compute and print the evaluation metrics\n",
    "accuracy_smote_optimized = accuracy_score(y_test, y_pred_smote_optimized)\n",
    "roc_auc_smote_optimized = roc_auc_score(y_test, y_pred_prob_smote_optimized)\n",
    "conf_matrix_smote_optimized = confusion_matrix(y_test, y_pred_smote_optimized)\n",
    "class_report_smote_optimized = classification_report(y_test, y_pred_smote_optimized)\n",
    "\n",
    "print(f\"Optimized Model with SMOTE Accuracy: {accuracy_smote_optimized}\")\n",
    "print(f\"Optimized Model with SMOTE ROC AUC: {roc_auc_smote_optimized}\")\n",
    "print(\"Optimized Model with SMOTE Confusion Matrix:\\n\", conf_matrix_smote_optimized)\n",
    "print(\"Optimized Model with SMOTE Classification Report:\\n\", class_report_smote_optimized)\n"
   ]
  },
  {
   "cell_type": "markdown",
   "id": "e5681271",
   "metadata": {},
   "source": [
    "#### Advanced oversampling techniques"
   ]
  },
  {
   "cell_type": "code",
   "execution_count": 9,
   "id": "82e6d1d1",
   "metadata": {},
   "outputs": [
    {
     "name": "stdout",
     "output_type": "stream",
     "text": [
      "Defaulting to user installation because normal site-packages is not writeable\n",
      "Requirement already satisfied: imbalanced-learn in /geode2/home/u070/rajaali/BigRed200/.local/lib/python3.10/site-packages (0.12.0)\n",
      "Requirement already satisfied: scipy>=1.5.0 in /geode2/soft/hps/sles15/python/gnu/3.10.5/lib/python3.10/site-packages (from imbalanced-learn) (1.8.1)\n",
      "Requirement already satisfied: numpy>=1.17.3 in /geode2/soft/hps/sles15/python/gnu/3.10.5/lib/python3.10/site-packages (from imbalanced-learn) (1.22.4)\n",
      "Requirement already satisfied: threadpoolctl>=2.0.0 in /geode2/soft/hps/sles15/python/gnu/3.10.5/lib/python3.10/site-packages (from imbalanced-learn) (3.1.0)\n",
      "Requirement already satisfied: joblib>=1.1.1 in /geode2/home/u070/rajaali/BigRed200/.local/lib/python3.10/site-packages (from imbalanced-learn) (1.3.2)\n",
      "Requirement already satisfied: scikit-learn>=1.0.2 in /geode2/soft/hps/sles15/python/gnu/3.10.5/lib/python3.10/site-packages (from imbalanced-learn) (1.1.1)\n"
     ]
    }
   ],
   "source": [
    "!pip install imbalanced-learn"
   ]
  },
  {
   "cell_type": "code",
   "execution_count": 10,
   "id": "89e549df",
   "metadata": {},
   "outputs": [
    {
     "name": "stdout",
     "output_type": "stream",
     "text": [
      "Fitting 5 folds for each of 12 candidates, totalling 60 fits\n",
      "[CV] END ......svc__C=1, svc__gamma=auto, svc__kernel=linear; total time=28.1min\n",
      "[CV] END .....svc__C=1, svc__gamma=scale, svc__kernel=linear; total time=28.1min\n",
      "[CV] END ......svc__C=1, svc__gamma=auto, svc__kernel=linear; total time=28.1min\n",
      "[CV] END .....svc__C=1, svc__gamma=scale, svc__kernel=linear; total time=28.6min\n",
      "[CV] END .....svc__C=1, svc__gamma=scale, svc__kernel=linear; total time=28.7min\n",
      "[CV] END .....svc__C=1, svc__gamma=scale, svc__kernel=linear; total time=28.8min\n",
      "[CV] END ......svc__C=1, svc__gamma=auto, svc__kernel=linear; total time=29.1min\n",
      "[CV] END ......svc__C=1, svc__gamma=auto, svc__kernel=linear; total time=29.4min\n",
      "[CV] END .......svc__C=10, svc__gamma=scale, svc__kernel=rbf; total time=29.9min\n",
      "[CV] END .........svc__C=1, svc__gamma=auto, svc__kernel=rbf; total time=31.3min\n",
      "[CV] END .........svc__C=1, svc__gamma=auto, svc__kernel=rbf; total time=31.4min\n",
      "[CV] END .......svc__C=10, svc__gamma=scale, svc__kernel=rbf; total time=31.5min\n",
      "[CV] END ........svc__C=1, svc__gamma=scale, svc__kernel=rbf; total time=31.7min\n",
      "[CV] END .........svc__C=1, svc__gamma=auto, svc__kernel=rbf; total time=32.1min\n",
      "[CV] END ........svc__C=1, svc__gamma=scale, svc__kernel=rbf; total time=32.3min\n",
      "[CV] END ........svc__C=1, svc__gamma=scale, svc__kernel=rbf; total time=32.3min\n",
      "[CV] END ........svc__C=1, svc__gamma=scale, svc__kernel=rbf; total time=32.3min\n",
      "[CV] END .........svc__C=1, svc__gamma=auto, svc__kernel=rbf; total time=32.5min\n",
      "[CV] END ........svc__C=1, svc__gamma=scale, svc__kernel=rbf; total time=32.8min\n",
      "[CV] END .......svc__C=10, svc__gamma=scale, svc__kernel=rbf; total time=33.1min\n",
      "[CV] END .......svc__C=0.1, svc__gamma=auto, svc__kernel=rbf; total time=33.2min\n",
      "[CV] END .........svc__C=1, svc__gamma=auto, svc__kernel=rbf; total time=33.6min\n",
      "[CV] END ......svc__C=0.1, svc__gamma=scale, svc__kernel=rbf; total time=34.9min\n",
      "[CV] END ......svc__C=0.1, svc__gamma=scale, svc__kernel=rbf; total time=35.0min\n",
      "[CV] END .......svc__C=0.1, svc__gamma=auto, svc__kernel=rbf; total time=35.1min\n",
      "[CV] END .......svc__C=0.1, svc__gamma=auto, svc__kernel=rbf; total time=35.3min\n",
      "[CV] END ......svc__C=0.1, svc__gamma=scale, svc__kernel=rbf; total time=35.4min\n",
      "[CV] END ......svc__C=0.1, svc__gamma=scale, svc__kernel=rbf; total time=35.5min\n",
      "[CV] END .......svc__C=0.1, svc__gamma=auto, svc__kernel=rbf; total time=35.5min\n",
      "[CV] END ....svc__C=10, svc__gamma=scale, svc__kernel=linear; total time=35.6min\n",
      "[CV] END ......svc__C=0.1, svc__gamma=scale, svc__kernel=rbf; total time=35.7min\n",
      "[CV] END .......svc__C=0.1, svc__gamma=auto, svc__kernel=rbf; total time=35.7min\n",
      "[CV] END ....svc__C=10, svc__gamma=scale, svc__kernel=linear; total time=35.8min\n",
      "[CV] END ....svc__C=10, svc__gamma=scale, svc__kernel=linear; total time=36.4min\n",
      "[CV] END ....svc__C=10, svc__gamma=scale, svc__kernel=linear; total time=37.2min\n",
      "[CV] END ....svc__C=10, svc__gamma=scale, svc__kernel=linear; total time=37.4min\n",
      "[CV] END ....svc__C=0.1, svc__gamma=auto, svc__kernel=linear; total time=25.9min\n",
      "[CV] END ........svc__C=10, svc__gamma=auto, svc__kernel=rbf; total time=17.2min\n",
      "[CV] END ...svc__C=0.1, svc__gamma=scale, svc__kernel=linear; total time=24.6min\n",
      "[CV] END .......svc__C=10, svc__gamma=scale, svc__kernel=rbf; total time=19.0min\n",
      "[CV] END ....svc__C=0.1, svc__gamma=auto, svc__kernel=linear; total time=24.9min\n",
      "[CV] END .......svc__C=10, svc__gamma=scale, svc__kernel=rbf; total time=19.1min\n",
      "[CV] END ....svc__C=0.1, svc__gamma=auto, svc__kernel=linear; total time=26.8min\n",
      "[CV] END ........svc__C=10, svc__gamma=auto, svc__kernel=rbf; total time=17.3min\n",
      "[CV] END ......svc__C=1, svc__gamma=auto, svc__kernel=linear; total time=27.2min\n",
      "[CV] END ........svc__C=10, svc__gamma=auto, svc__kernel=rbf; total time=17.0min\n",
      "[CV] END .....svc__C=1, svc__gamma=scale, svc__kernel=linear; total time=27.2min\n",
      "[CV] END ........svc__C=10, svc__gamma=auto, svc__kernel=rbf; total time=17.1min\n",
      "[CV] END ...svc__C=0.1, svc__gamma=scale, svc__kernel=linear; total time=25.2min\n",
      "[CV] END .....svc__C=10, svc__gamma=auto, svc__kernel=linear; total time=20.3min\n",
      "[CV] END ...svc__C=0.1, svc__gamma=scale, svc__kernel=linear; total time=25.1min\n",
      "[CV] END .....svc__C=10, svc__gamma=auto, svc__kernel=linear; total time=21.5min\n",
      "[CV] END ....svc__C=0.1, svc__gamma=auto, svc__kernel=linear; total time=25.1min\n",
      "[CV] END .....svc__C=10, svc__gamma=auto, svc__kernel=linear; total time=21.6min\n",
      "[CV] END ...svc__C=0.1, svc__gamma=scale, svc__kernel=linear; total time=25.0min\n",
      "[CV] END .....svc__C=10, svc__gamma=auto, svc__kernel=linear; total time=21.8min\n",
      "[CV] END ....svc__C=0.1, svc__gamma=auto, svc__kernel=linear; total time=25.5min\n",
      "[CV] END .....svc__C=10, svc__gamma=auto, svc__kernel=linear; total time=21.9min\n",
      "[CV] END ...svc__C=0.1, svc__gamma=scale, svc__kernel=linear; total time=26.9min\n",
      "[CV] END ........svc__C=10, svc__gamma=auto, svc__kernel=rbf; total time=22.5min\n",
      "Best Parameters with SMOTE-Tomek: {'svc__C': 10, 'svc__gamma': 'scale', 'svc__kernel': 'linear'}\n",
      "Best ROC AUC Score with SMOTE-Tomek: 0.957423294129334\n",
      "Model with SMOTE-Tomek Accuracy: 0.9434110264455401\n",
      "Model with SMOTE-Tomek ROC AUC: 0.9548957726883006\n",
      "Model with SMOTE-Tomek Confusion Matrix:\n",
      " [[15866   639]\n",
      " [  371   972]]\n",
      "Model with SMOTE-Tomek Classification Report:\n",
      "               precision    recall  f1-score   support\n",
      "\n",
      "           0       0.98      0.96      0.97     16505\n",
      "           1       0.60      0.72      0.66      1343\n",
      "\n",
      "    accuracy                           0.94     17848\n",
      "   macro avg       0.79      0.84      0.81     17848\n",
      "weighted avg       0.95      0.94      0.95     17848\n",
      "\n"
     ]
    }
   ],
   "source": [
    "from imblearn.over_sampling import SMOTE\n",
    "from imblearn.under_sampling import TomekLinks\n",
    "from imblearn.combine import SMOTETomek\n",
    "from imblearn.pipeline import Pipeline as ImbPipeline\n",
    "from sklearn.model_selection import train_test_split, GridSearchCV\n",
    "from sklearn.preprocessing import StandardScaler\n",
    "from sklearn.svm import SVC\n",
    "from sklearn.metrics import accuracy_score, roc_auc_score, confusion_matrix, classification_report\n",
    "\n",
    "# Creating a combined sampling strategy pipeline\n",
    "resampling_pipeline = ImbPipeline([\n",
    "    ('smote_tomek', SMOTETomek(smote=SMOTE(random_state=42), tomek=TomekLinks(sampling_strategy='majority'), random_state=42)),\n",
    "    ('scaler', StandardScaler()),\n",
    "    ('svc', SVC(probability=True, random_state=42))\n",
    "])\n",
    "\n",
    "param_grid = {\n",
    "    'svc__C': [0.1, 1, 10],\n",
    "    'svc__kernel': ['linear', 'rbf'],\n",
    "    'svc__gamma': ['scale', 'auto']\n",
    "}\n",
    "\n",
    "# Using GridSearchCV for hyperparameter tuning with the combined sampling strategy pipeline\n",
    "grid_search_comb = GridSearchCV(resampling_pipeline, param_grid, cv=5, scoring='roc_auc', n_jobs=-1, verbose=2)\n",
    "grid_search_comb.fit(X_train, y_train)\n",
    "\n",
    "print(\"Best Parameters with SMOTE-Tomek:\", grid_search_comb.best_params_)\n",
    "print(\"Best ROC AUC Score with SMOTE-Tomek:\", grid_search_comb.best_score_)\n",
    "\n",
    "# Evaluating the model with the best parameters on the test set\n",
    "best_pipeline_comb = grid_search_comb.best_estimator_\n",
    "y_pred_comb = best_pipeline_comb.predict(X_test)\n",
    "y_pred_prob_comb = best_pipeline_comb.predict_proba(X_test)[:, 1]\n",
    "\n",
    "# Compute and print the evaluation metrics\n",
    "accuracy_comb = accuracy_score(y_test, y_pred_comb)\n",
    "roc_auc_comb = roc_auc_score(y_test, y_pred_prob_comb)\n",
    "conf_matrix_comb = confusion_matrix(y_test, y_pred_comb)\n",
    "class_report_comb = classification_report(y_test, y_pred_comb)\n",
    "\n",
    "print(f\"Model with SMOTE-Tomek Accuracy: {accuracy_comb}\")\n",
    "print(f\"Model with SMOTE-Tomek ROC AUC: {roc_auc_comb}\")\n",
    "print(\"Model with SMOTE-Tomek Confusion Matrix:\\n\", conf_matrix_comb)\n",
    "print(\"Model with SMOTE-Tomek Classification Report:\\n\", class_report_comb)"
   ]
  },
  {
   "cell_type": "markdown",
   "id": "01d0a8f5",
   "metadata": {},
   "source": [
    "#### Stratified K-Fold Cross-Validation"
   ]
  },
  {
   "cell_type": "code",
   "execution_count": 11,
   "id": "d9a5fff3",
   "metadata": {},
   "outputs": [
    {
     "name": "stdout",
     "output_type": "stream",
     "text": [
      "Cross-Validated ROC AUC Scores: [0.96146557 0.95723615 0.95943222 0.95928449 0.95651649]\n",
      "Mean ROC AUC Score: 0.9587869849348654\n"
     ]
    }
   ],
   "source": [
    "from sklearn.model_selection import StratifiedKFold, cross_val_score\n",
    "import numpy as np\n",
    "\n",
    "# Define a Stratified K-Fold Cross-Validator\n",
    "stratified_k_fold = StratifiedKFold(n_splits=5, shuffle=True, random_state=42)\n",
    "\n",
    "# Define the SVM model within a pipeline, including scaling\n",
    "svm_pipeline = Pipeline([\n",
    "    ('scaler', StandardScaler()),\n",
    "    ('svc', SVC(**hardcoded_best_params_smote, probability=True, random_state=42))\n",
    "])\n",
    "\n",
    "# Compute the cross-validated ROC AUC score\n",
    "roc_auc_scores = cross_val_score(svm_pipeline, X, y, cv=stratified_k_fold, scoring='roc_auc', n_jobs=-1)\n",
    "\n",
    "print(f\"Cross-Validated ROC AUC Scores: {roc_auc_scores}\")\n",
    "print(f\"Mean ROC AUC Score: {np.mean(roc_auc_scores)}\")"
   ]
  }
 ],
 "metadata": {
  "kernelspec": {
   "display_name": "Python 3 (ipykernel)",
   "language": "python",
   "name": "python3"
  },
  "language_info": {
   "codemirror_mode": {
    "name": "ipython",
    "version": 3
   },
   "file_extension": ".py",
   "mimetype": "text/x-python",
   "name": "python",
   "nbconvert_exporter": "python",
   "pygments_lexer": "ipython3",
   "version": "3.10.5"
  }
 },
 "nbformat": 4,
 "nbformat_minor": 5
}
