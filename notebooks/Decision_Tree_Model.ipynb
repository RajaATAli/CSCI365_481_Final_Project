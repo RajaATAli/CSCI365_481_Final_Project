{
 "cells": [
  {
   "cell_type": "markdown",
   "id": "671c337b-6686-40fe-b38f-19922e38492c",
   "metadata": {},
   "source": [
    "# Training a Decision Tree Model for Diabetes Prediction\n",
    "\n",
    "This notebook trains a Decision Tree model using the provided cleaned diabetes dataset, evaluates its performance, and displays key metrics.\n"
   ]
  },
  {
   "cell_type": "markdown",
   "id": "e3fd5ce3-e35d-4c14-9bf0-ae19323baab9",
   "metadata": {},
   "source": [
    " Import Libraries"
   ]
  },
  {
   "cell_type": "code",
   "execution_count": null,
   "id": "1f5b801d-7f6f-41ec-a38e-961c673d1e58",
   "metadata": {},
   "outputs": [],
   "source": [
    "import pandas as pd\n",
    "from sklearn.model_selection import train_test_split\n",
    "from sklearn.tree import DecisionTreeClassifier\n",
    "from sklearn.metrics import accuracy_score, classification_report, confusion_matrix\n"
   ]
  },
  {
   "cell_type": "markdown",
   "id": "c70b7cdf-3690-4260-9ec8-f28ed31676c6",
   "metadata": {},
   "source": [
    "Load Data"
   ]
  },
  {
   "cell_type": "code",
   "execution_count": null,
   "id": "eb2cc417-bedb-4abf-a4df-8b5a8372d12f",
   "metadata": {},
   "outputs": [],
   "source": [
    "# Load the dataset (you can replace the path with your specific file path)\n",
    "data = pd.read_csv('cleaned_diabetes_one_hot_encoding.csv')\n",
    "\n",
    "# Display the first few rows of the dataset\n",
    "data.head()\n"
   ]
  },
  {
   "cell_type": "markdown",
   "id": "aa312896-7733-4bc1-a607-2b507f9e2c37",
   "metadata": {},
   "source": [
    "Data Preparation"
   ]
  },
  {
   "cell_type": "code",
   "execution_count": null,
   "id": "e72ab932-acf4-4aed-b0ae-d04dd1829a04",
   "metadata": {},
   "outputs": [],
   "source": [
    "# Splitting the data into features and target\n",
    "X = data.drop(columns=['diabetes'])  # Features\n",
    "y = data['diabetes']  # Target\n",
    "\n",
    "# Splitting the data into training and testing sets\n",
    "X_train, X_test, y_train, y_test = train_test_split(X, y, test_size=0.2, random_state=42)\n"
   ]
  },
  {
   "cell_type": "markdown",
   "id": "33a08f6e-c387-42e9-a51b-d918949f0447",
   "metadata": {},
   "source": [
    "Training the Model"
   ]
  },
  {
   "cell_type": "code",
   "execution_count": null,
   "id": "3554059a-9562-4704-a4dc-436a3598f4b7",
   "metadata": {},
   "outputs": [],
   "source": [
    "# Creating and training the Decision Tree model\n",
    "decision_tree = DecisionTreeClassifier(random_state=42)\n",
    "decision_tree.fit(X_train, y_train)\n"
   ]
  },
  {
   "cell_type": "markdown",
   "id": "583e6752-f2d1-460d-a3ab-8f674bc1a2ab",
   "metadata": {},
   "source": [
    "Model Evaluation"
   ]
  },
  {
   "cell_type": "code",
   "execution_count": null,
   "id": "5d0dcb1a-3f4c-4948-b00f-72622f9e9822",
   "metadata": {},
   "outputs": [],
   "source": [
    "# Making predictions and evaluating the model\n",
    "y_pred = decision_tree.predict(X_test)\n",
    "\n",
    "# Displaying evaluation metrics\n",
    "accuracy = accuracy_score(y_test, y_pred)\n",
    "classification_rep = classification_report(y_test, y_pred)\n",
    "conf_matrix = confusion_matrix(y_test, y_pred)\n",
    "\n",
    "print(f'Accuracy: {accuracy}')\n",
    "print('Classification Report:')\n",
    "print(classification_rep)\n",
    "print('Confusion Matrix:')\n",
    "print(conf_matrix)\n"
   ]
  }
 ],
 "metadata": {
  "kernelspec": {
   "display_name": "Python 3 (ipykernel)",
   "language": "python",
   "name": "python3"
  },
  "language_info": {
   "codemirror_mode": {
    "name": "ipython",
    "version": 3
   },
   "file_extension": ".py",
   "mimetype": "text/x-python",
   "name": "python",
   "nbconvert_exporter": "python",
   "pygments_lexer": "ipython3",
   "version": "3.12.4"
  }
 },
 "nbformat": 4,
 "nbformat_minor": 5
}
